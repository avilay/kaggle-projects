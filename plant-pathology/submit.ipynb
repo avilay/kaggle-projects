{
 "metadata": {
  "language_info": {
   "codemirror_mode": {
    "name": "ipython",
    "version": 3
   },
   "file_extension": ".py",
   "mimetype": "text/x-python",
   "name": "python",
   "nbconvert_exporter": "python",
   "pygments_lexer": "ipython3",
   "version": "3.9.1-final"
  },
  "orig_nbformat": 2,
  "kernelspec": {
   "name": "python3",
   "display_name": "Python 3.9.1 64-bit ('ai': conda)",
   "metadata": {
    "interpreter": {
     "hash": "ccdde1b85ab601e55b7eb43cffcb2eeb509651fea228e53d7aabd2414805536c"
    }
   }
  }
 },
 "nbformat": 4,
 "nbformat_minor": 2,
 "cells": [
  {
   "cell_type": "code",
   "execution_count": 1,
   "metadata": {},
   "outputs": [],
   "source": [
    "import pandas as pd\n",
    "from PIL import Image\n",
    "import consts\n",
    "import torch as t\n",
    "from plant_pathology_dataset import PlantPathologyTestDataset\n",
    "import os.path as path\n",
    "from torchvision import transforms\n",
    "import torch.utils.data as td\n",
    "from torchutils import evaluate"
   ]
  },
  {
   "cell_type": "code",
   "execution_count": 2,
   "metadata": {},
   "outputs": [],
   "source": [
    "model_name = \"baseline_model\""
   ]
  },
  {
   "cell_type": "code",
   "execution_count": 3,
   "metadata": {},
   "outputs": [],
   "source": [
    "with open(f\"./models/{model_name}.pkl\", \"rb\") as f:\n",
    "    model = t.load(f)"
   ]
  },
  {
   "cell_type": "code",
   "execution_count": 4,
   "metadata": {},
   "outputs": [],
   "source": [
    "imgroot = path.join(consts.DATAROOT, \"cache\", \"250x250\")\n",
    "means = (0.4038582976214318, 0.5127894672998029, 0.3129764558236694)\n",
    "stds = (0.2034616086724042, 0.18909514150453344, 0.18761408366900625)\n",
    "xform = transforms.Compose([\n",
    "    transforms.ToTensor(),\n",
    "    transforms.Normalize(means, stds)\n",
    "])\n",
    "testset = PlantPathologyTestDataset(imgroot, xform)"
   ]
  },
  {
   "cell_type": "code",
   "execution_count": 5,
   "metadata": {},
   "outputs": [],
   "source": [
    "dl = td.DataLoader(testset, batch_size=128, shuffle=False)"
   ]
  },
  {
   "cell_type": "code",
   "execution_count": 6,
   "metadata": {},
   "outputs": [],
   "source": [
    "metrics = evaluate(model, dl, [])"
   ]
  },
  {
   "cell_type": "code",
   "execution_count": 7,
   "metadata": {},
   "outputs": [
    {
     "output_type": "execute_result",
     "data": {
      "text/plain": [
       "torch.Size([10, 4])"
      ]
     },
     "metadata": {},
     "execution_count": 7
    }
   ],
   "source": [
    "all_probs = t.nn.Softmax()(metrics[\"outputs\"])\n",
    "all_probs.shape"
   ]
  },
  {
   "cell_type": "code",
   "execution_count": 9,
   "metadata": {},
   "outputs": [],
   "source": [
    "with open(f\"./submissions/{model_name}.csv\", \"wt\") as f:\n",
    "    print(\"image_id,healthy,multiple_diseases,rust,scab\", file=f)\n",
    "    for i in range(all_probs.shape[0]):\n",
    "        image_id = testset.image_ids[i]\n",
    "        probs = all_probs[i, :]\n",
    "        healthy = probs[consts.HEALTHY]\n",
    "        multiple_diseases = probs[consts.MULTIPLE_DISEASES]\n",
    "        rust = probs[consts.RUST]\n",
    "        scab = probs[consts.SCAB]\n",
    "        print(f\"{image_id},{healthy:.3f},{multiple_diseases:.3f},{rust:.3f},{scab:.3f}\", file=f)"
   ]
  },
  {
   "cell_type": "code",
   "execution_count": null,
   "metadata": {},
   "outputs": [],
   "source": []
  },
  {
   "cell_type": "code",
   "execution_count": null,
   "metadata": {},
   "outputs": [],
   "source": [
    "trainer.model.eval()\n",
    "with open(\"./baseline_submission.csv\", \"wt\") as f:\n",
    "    print(\"image_id,healthy,multiple_diseases,rust,scab\", file=f)\n",
    "    for row in testset.itertuples():\n",
    "        img_file = f\"{row.image_id}.jpg\"\n",
    "        img_path = path.join(imgroot, img_file)\n",
    "        img = Image.open(img_path)\n",
    "        img = xform(img)\n",
    "        img = t.unsqueeze(img, 0)\n",
    "        logits = trainer.model(img)[0]\n",
    "        probs = softmax(logits)\n",
    "        healthy = probs[consts.HEALTHY]\n",
    "        multiple_diseases = probs[consts.MULTIPLE_DISEASES]\n",
    "        rust = probs[consts.RUST]\n",
    "        scab = probs[consts.SCAB]\n",
    "        print(f\"{row.image_id},{healthy:.3f},{multiple_diseases:.3f},{rust:.3f},{scab:.3f}\", file=f)"
   ]
  }
 ]
}